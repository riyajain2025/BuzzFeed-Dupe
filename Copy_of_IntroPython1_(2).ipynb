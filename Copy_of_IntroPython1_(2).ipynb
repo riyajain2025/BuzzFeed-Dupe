{
  "cells": [
    {
      "cell_type": "markdown",
      "source": [
        "# **Python: From Tools to Healthcare Applications**\n",
        "\n",
        "*Week 1*"
      ],
      "metadata": {
        "id": "yfC1Lqbr7yZ2"
      }
    },
    {
      "cell_type": "markdown",
      "metadata": {
        "id": "QNesIkEEfAya"
      },
      "source": [
        "\n",
        "\n",
        "# Numbers\n",
        "\n",
        "Python can perform mathematical operations, something you will likely use if you work with data in Python. There are different types of numbers -- integers are whole numbers (no decimals) that can be either positive or negative. Floats are numbers with decimals. Python also has complex numbers but we will not cover that here. Python arithmetic operations follow the order of operations -- PEMDAS (parentheses, exponents, division, addition, subtraction)."
      ]
    },
    {
      "cell_type": "markdown",
      "metadata": {
        "id": "OwDCFcimeNJR"
      },
      "source": [
        "## Addition"
      ]
    },
    {
      "cell_type": "code",
      "execution_count": null,
      "metadata": {
        "colab": {
          "base_uri": "https://localhost:8080/"
        },
        "id": "GPiyfm_XguSe",
        "outputId": "1913447e-c2d3-4f83-daba-2b92c54655b0"
      },
      "outputs": [
        {
          "output_type": "execute_result",
          "data": {
            "text/plain": [
              "12.0"
            ]
          },
          "metadata": {},
          "execution_count": 1
        }
      ],
      "source": [
        "2.0+10"
      ]
    },
    {
      "cell_type": "code",
      "execution_count": null,
      "metadata": {
        "colab": {
          "base_uri": "https://localhost:8080/"
        },
        "id": "Iz6HTC_jfAyc",
        "outputId": "f0e23ba1-999b-4691-c6d6-4532fbd6ce61"
      },
      "outputs": [
        {
          "output_type": "execute_result",
          "data": {
            "text/plain": [
              "12"
            ]
          },
          "metadata": {},
          "execution_count": 2
        }
      ],
      "source": [
        "2+10"
      ]
    },
    {
      "cell_type": "markdown",
      "metadata": {
        "id": "Za9ZTQ5ieqLB"
      },
      "source": [
        "### Checking Type"
      ]
    },
    {
      "cell_type": "code",
      "execution_count": null,
      "metadata": {
        "colab": {
          "base_uri": "https://localhost:8080/"
        },
        "id": "TAxoIWRkehcW",
        "outputId": "0494e091-2801-43b2-f18a-bc35f2060684"
      },
      "outputs": [
        {
          "output_type": "execute_result",
          "data": {
            "text/plain": [
              "int"
            ]
          },
          "metadata": {},
          "execution_count": 2
        }
      ],
      "source": [
        "type(2+10) # this is a comment. type(...) tells us the type of number inside the parentheses, here 12"
      ]
    },
    {
      "cell_type": "code",
      "execution_count": null,
      "metadata": {
        "colab": {
          "base_uri": "https://localhost:8080/"
        },
        "id": "uxuNpUfZg5Zp",
        "outputId": "dc862f70-80dd-4082-8149-04215a559d55"
      },
      "outputs": [
        {
          "output_type": "execute_result",
          "data": {
            "text/plain": [
              "float"
            ]
          },
          "metadata": {},
          "execution_count": 5
        }
      ],
      "source": [
        "type(2.0+10)  # mixed types (mixed integers / floats) convert to float"
      ]
    },
    {
      "cell_type": "markdown",
      "metadata": {
        "id": "F26AricweZ7f"
      },
      "source": [
        "## Multiplication"
      ]
    },
    {
      "cell_type": "code",
      "execution_count": null,
      "metadata": {
        "colab": {
          "base_uri": "https://localhost:8080/"
        },
        "id": "R0f4XgTJgwxX",
        "outputId": "4a06d9a4-907e-4118-f12d-019191a0017b"
      },
      "outputs": [
        {
          "output_type": "execute_result",
          "data": {
            "text/plain": [
              "20.0"
            ]
          },
          "metadata": {},
          "execution_count": 6
        }
      ],
      "source": [
        "2.0*10"
      ]
    },
    {
      "cell_type": "code",
      "execution_count": null,
      "metadata": {
        "colab": {
          "base_uri": "https://localhost:8080/"
        },
        "id": "_nL3ZkvWfAyd",
        "outputId": "cacd8339-72df-49ae-8ecf-bbd6f2b0be18"
      },
      "outputs": [
        {
          "output_type": "execute_result",
          "data": {
            "text/plain": [
              "20"
            ]
          },
          "metadata": {},
          "execution_count": 7
        }
      ],
      "source": [
        "2*10"
      ]
    },
    {
      "cell_type": "markdown",
      "metadata": {
        "id": "siS5t4KTed8R"
      },
      "source": [
        "## Subtraction"
      ]
    },
    {
      "cell_type": "code",
      "execution_count": null,
      "metadata": {
        "colab": {
          "base_uri": "https://localhost:8080/"
        },
        "id": "omPPWZvCfAyd",
        "outputId": "e7ba38c4-28a9-423b-ac39-a0885da4d789"
      },
      "outputs": [
        {
          "output_type": "execute_result",
          "data": {
            "text/plain": [
              "20"
            ]
          },
          "metadata": {},
          "execution_count": 8
        }
      ],
      "source": [
        "50 - 5*6"
      ]
    },
    {
      "cell_type": "markdown",
      "metadata": {
        "id": "z_N2HO9Ce0lv"
      },
      "source": [
        "## Division\n",
        "\n",
        "Also, note that order of operations holds in python, and you can use parentheses to group operations."
      ]
    },
    {
      "cell_type": "code",
      "execution_count": null,
      "metadata": {
        "colab": {
          "base_uri": "https://localhost:8080/"
        },
        "id": "EZfXTYgVfAyd",
        "outputId": "71714d8d-4435-4923-c6fd-5753c5a0e113"
      },
      "outputs": [
        {
          "output_type": "execute_result",
          "data": {
            "text/plain": [
              "5.0"
            ]
          },
          "metadata": {},
          "execution_count": 9
        }
      ],
      "source": [
        "\"\"\"\n",
        "this is a multiline comment.\n",
        "division always returns a float\n",
        "\"\"\"\n",
        "\n",
        "(50 - 5*6)/4\n"
      ]
    },
    {
      "cell_type": "code",
      "execution_count": null,
      "metadata": {
        "colab": {
          "base_uri": "https://localhost:8080/"
        },
        "id": "1PGtVe3_fKad",
        "outputId": "eece5b96-9b82-4554-a626-6c78d206eb91"
      },
      "outputs": [
        {
          "output_type": "execute_result",
          "data": {
            "text/plain": [
              "float"
            ]
          },
          "metadata": {},
          "execution_count": 10
        }
      ],
      "source": [
        "type((50 - 5*6)/4)"
      ]
    },
    {
      "cell_type": "markdown",
      "metadata": {
        "id": "fNKZgCcCfnQm"
      },
      "source": [
        "### Integer Division"
      ]
    },
    {
      "cell_type": "code",
      "execution_count": null,
      "metadata": {
        "colab": {
          "base_uri": "https://localhost:8080/"
        },
        "id": "Is0TTOt2fAye",
        "outputId": "712327ff-d9bb-4b49-8d81-5601c0daf289"
      },
      "outputs": [
        {
          "output_type": "execute_result",
          "data": {
            "text/plain": [
              "1"
            ]
          },
          "metadata": {},
          "execution_count": 14
        }
      ],
      "source": [
        "10//8 # Integer division"
      ]
    },
    {
      "cell_type": "code",
      "execution_count": null,
      "metadata": {
        "colab": {
          "base_uri": "https://localhost:8080/"
        },
        "id": "epa6VHQafrt9",
        "outputId": "a0e7b396-2ec8-459c-a5f2-1ee8d6cde332"
      },
      "outputs": [
        {
          "output_type": "execute_result",
          "data": {
            "text/plain": [
              "int"
            ]
          },
          "metadata": {},
          "execution_count": 11
        }
      ],
      "source": [
        "type(5//8)"
      ]
    },
    {
      "cell_type": "markdown",
      "metadata": {
        "id": "eqykKBuPfyCr"
      },
      "source": [
        "## Modulo\n",
        "Modulo is an operation that you may not be familiar with from your elementary school math classes. Modulo, `a%b`, calculates the remainder of `a` when divided by `b`.\n"
      ]
    },
    {
      "cell_type": "code",
      "execution_count": null,
      "metadata": {
        "colab": {
          "base_uri": "https://localhost:8080/"
        },
        "id": "TsPYhxQlfAye",
        "outputId": "e52836c3-5a50-451a-d76a-12cb64c35e7d"
      },
      "outputs": [
        {
          "output_type": "execute_result",
          "data": {
            "text/plain": [
              "3"
            ]
          },
          "metadata": {},
          "execution_count": 4
        }
      ],
      "source": [
        "17//5"
      ]
    },
    {
      "cell_type": "code",
      "execution_count": null,
      "metadata": {
        "id": "mW2pAw7_fAye",
        "outputId": "f1b8716b-b5f2-456b-e925-8257f625fd54",
        "colab": {
          "base_uri": "https://localhost:8080/"
        }
      },
      "outputs": [
        {
          "output_type": "execute_result",
          "data": {
            "text/plain": [
              "2"
            ]
          },
          "metadata": {},
          "execution_count": 11
        }
      ],
      "source": [
        "17%3"
      ]
    },
    {
      "cell_type": "code",
      "execution_count": null,
      "metadata": {
        "id": "OOqS5XerfAye",
        "outputId": "63ebbd79-233e-4c36-cc2c-0a1a3f51e360",
        "colab": {
          "base_uri": "https://localhost:8080/"
        }
      },
      "outputs": [
        {
          "output_type": "execute_result",
          "data": {
            "text/plain": [
              "17"
            ]
          },
          "metadata": {},
          "execution_count": 14
        }
      ],
      "source": [
        "5*3 + 2#quotient * divisor + remainder"
      ]
    },
    {
      "cell_type": "markdown",
      "metadata": {
        "id": "gf8fzolTJ2N6"
      },
      "source": [
        "### Exercise:\n",
        "\n",
        "What will `7%3` be?"
      ]
    },
    {
      "cell_type": "markdown",
      "metadata": {
        "id": "G9IF3FJGfAyh"
      },
      "source": [
        "## Exponentiation"
      ]
    },
    {
      "cell_type": "code",
      "execution_count": null,
      "metadata": {
        "id": "wrPCnNhlfAyh",
        "outputId": "dc6f42ae-77b7-4ba8-caee-a465356af57f",
        "colab": {
          "base_uri": "https://localhost:8080/"
        }
      },
      "outputs": [
        {
          "output_type": "execute_result",
          "data": {
            "text/plain": [
              "8"
            ]
          },
          "metadata": {},
          "execution_count": 15
        }
      ],
      "source": [
        "2**3 # 2 cubed"
      ]
    },
    {
      "cell_type": "code",
      "execution_count": null,
      "metadata": {
        "id": "lx8VUPdJfAyh",
        "outputId": "d247b565-d0d6-47eb-e724-4a7de68f78e3",
        "colab": {
          "base_uri": "https://localhost:8080/"
        }
      },
      "outputs": [
        {
          "output_type": "execute_result",
          "data": {
            "text/plain": [
              "0.25298221281347033"
            ]
          },
          "metadata": {},
          "execution_count": 16
        }
      ],
      "source": [
        "2.5**(-3/2)"
      ]
    },
    {
      "cell_type": "markdown",
      "metadata": {
        "id": "noDz4yC4KZup"
      },
      "source": [
        "## Exercises:\n",
        "For each of the following, what will the output be, and what type will it be?\n",
        "\n",
        "1. `3 + 2/1`\n",
        "2. `3 + 2 //1`\n",
        "3. `3.0 + 2//1`\n",
        "4. `2**2*2/3`\n",
        "5. `5%2 -3`\n",
        "\n"
      ]
    },
    {
      "cell_type": "code",
      "source": [
        "5%2 -3"
      ],
      "metadata": {
        "colab": {
          "base_uri": "https://localhost:8080/"
        },
        "id": "cQMeiJQtqaH6",
        "outputId": "6572036f-dd0e-47b0-dc77-53a6d5e41d6a"
      },
      "execution_count": null,
      "outputs": [
        {
          "output_type": "execute_result",
          "data": {
            "text/plain": [
              "-2"
            ]
          },
          "metadata": {},
          "execution_count": 23
        }
      ]
    },
    {
      "cell_type": "code",
      "source": [
        "3+2 //1"
      ],
      "metadata": {
        "colab": {
          "base_uri": "https://localhost:8080/"
        },
        "id": "Dfp1Q60bqQvY",
        "outputId": "1dacb61c-989d-4956-c936-3bf7ebcacd9f"
      },
      "execution_count": null,
      "outputs": [
        {
          "output_type": "execute_result",
          "data": {
            "text/plain": [
              "5"
            ]
          },
          "metadata": {},
          "execution_count": 21
        }
      ]
    },
    {
      "cell_type": "code",
      "source": [
        "3.0+ 2//1"
      ],
      "metadata": {
        "colab": {
          "base_uri": "https://localhost:8080/"
        },
        "id": "oLfx_RBYqWYw",
        "outputId": "f1ed8641-af9e-430e-d20f-03ddb710be81"
      },
      "execution_count": null,
      "outputs": [
        {
          "output_type": "execute_result",
          "data": {
            "text/plain": [
              "5.0"
            ]
          },
          "metadata": {},
          "execution_count": 22
        }
      ]
    },
    {
      "cell_type": "code",
      "source": [
        "2**2*2/3"
      ],
      "metadata": {
        "colab": {
          "base_uri": "https://localhost:8080/"
        },
        "id": "vTjyxkIvp_FU",
        "outputId": "09d9038f-f8af-4c20-82c3-695ccf09cebb"
      },
      "execution_count": null,
      "outputs": [
        {
          "output_type": "execute_result",
          "data": {
            "text/plain": [
              "2.6666666666666665"
            ]
          },
          "metadata": {},
          "execution_count": 18
        }
      ]
    },
    {
      "cell_type": "code",
      "source": [
        "3+2/1"
      ],
      "metadata": {
        "colab": {
          "base_uri": "https://localhost:8080/"
        },
        "id": "1RaivbMhp7gI",
        "outputId": "9a169663-9dca-49dd-9cb1-08d82fc3cfd0"
      },
      "execution_count": null,
      "outputs": [
        {
          "output_type": "execute_result",
          "data": {
            "text/plain": [
              "5.0"
            ]
          },
          "metadata": {},
          "execution_count": 17
        }
      ]
    },
    {
      "cell_type": "code",
      "source": [
        "10//3 %2"
      ],
      "metadata": {
        "colab": {
          "base_uri": "https://localhost:8080/"
        },
        "id": "pa9KeukurDzs",
        "outputId": "13e56bb3-ec2d-4cfb-ba16-fe8bbf5cb938"
      },
      "execution_count": null,
      "outputs": [
        {
          "output_type": "execute_result",
          "data": {
            "text/plain": [
              "1"
            ]
          },
          "metadata": {},
          "execution_count": 25
        }
      ]
    },
    {
      "cell_type": "markdown",
      "metadata": {
        "id": "EXnLVH2_goOo"
      },
      "source": [
        "# Defining Variables\n",
        "\n",
        "Variables let you store values and work with them by name.\n",
        "\n",
        "In python, variables can change types after they are created.\n",
        "\n",
        "> Rules for Python variables:\n",
        "- A variable name must start with a letter or the underscore character\n",
        "- A variable name cannot start with a number\n",
        "- A variable name can only contain alpha-numeric characters and underscores (A-z, 0-9, and _ )\n",
        "- Variable names are case-sensitive (age, Age and AGE are three different variables)\n",
        "- In Python, typically use snake case (separate words by underscores)\n",
        "\n",
        "(Taken from https://www.w3schools.com/python/gloss_python_variable_names.asp)\n",
        "\n",
        "\n",
        "\n",
        "\n"
      ]
    },
    {
      "cell_type": "code",
      "execution_count": null,
      "metadata": {
        "id": "pJ7GX4SqfAyf"
      },
      "outputs": [],
      "source": [
        "number = 17"
      ]
    },
    {
      "cell_type": "code",
      "execution_count": null,
      "metadata": {
        "id": "N9w34CHbfAyf",
        "outputId": "d2f325a1-2b5d-4232-9f60-aa1347d68a53",
        "colab": {
          "base_uri": "https://localhost:8080/"
        }
      },
      "outputs": [
        {
          "output_type": "execute_result",
          "data": {
            "text/plain": [
              "17"
            ]
          },
          "metadata": {},
          "execution_count": 42
        }
      ],
      "source": [
        "number"
      ]
    },
    {
      "cell_type": "code",
      "execution_count": null,
      "metadata": {
        "id": "cixQgQRdfAyf",
        "outputId": "cbe29e25-d89e-481e-e631-aed773536f7e",
        "colab": {
          "base_uri": "https://localhost:8080/",
          "height": 179
        }
      },
      "outputs": [
        {
          "output_type": "error",
          "ename": "NameError",
          "evalue": "ignored",
          "traceback": [
            "\u001b[0;31m---------------------------------------------------------------------------\u001b[0m",
            "\u001b[0;31mNameError\u001b[0m                                 Traceback (most recent call last)",
            "\u001b[0;32m<ipython-input-15-5bc41d680e7d>\u001b[0m in \u001b[0;36m<cell line: 1>\u001b[0;34m()\u001b[0m\n\u001b[0;32m----> 1\u001b[0;31m \u001b[0mquotient\u001b[0m \u001b[0;31m# undefined variable returns an error\u001b[0m\u001b[0;34m\u001b[0m\u001b[0;34m\u001b[0m\u001b[0m\n\u001b[0m",
            "\u001b[0;31mNameError\u001b[0m: name 'quotient' is not defined"
          ]
        }
      ],
      "source": [
        "quotient # undefined variable returns an error"
      ]
    },
    {
      "cell_type": "code",
      "execution_count": null,
      "metadata": {
        "id": "TgFCcESsfAyf"
      },
      "outputs": [],
      "source": [
        "quotient = 17//3 # how else could we write this?\n",
        "# quotient = 5\n",
        "\n"
      ]
    },
    {
      "cell_type": "markdown",
      "metadata": {
        "id": "wtjf0eEz7sOl"
      },
      "source": [
        "Could we use `number` to define quotient? Do so below."
      ]
    },
    {
      "cell_type": "code",
      "execution_count": null,
      "metadata": {
        "id": "gRNOVass7sOl"
      },
      "outputs": [],
      "source": [
        "quotient = number//3"
      ]
    },
    {
      "cell_type": "code",
      "execution_count": null,
      "metadata": {
        "id": "OaVmGTuyfAyf",
        "outputId": "a82e3bca-59f3-4fdb-9e8f-e4e2ded9b728",
        "colab": {
          "base_uri": "https://localhost:8080/"
        }
      },
      "outputs": [
        {
          "output_type": "execute_result",
          "data": {
            "text/plain": [
              "5"
            ]
          },
          "metadata": {},
          "execution_count": 45
        }
      ],
      "source": [
        "quotient"
      ]
    },
    {
      "cell_type": "code",
      "execution_count": null,
      "metadata": {
        "id": "JV9PCjwS7sOl"
      },
      "outputs": [],
      "source": [
        "remainder = number%3"
      ]
    },
    {
      "cell_type": "code",
      "execution_count": null,
      "metadata": {
        "id": "eS__S2H5fAyg",
        "outputId": "2e175d2b-bec9-493a-c4db-05651e74b83b",
        "colab": {
          "base_uri": "https://localhost:8080/"
        }
      },
      "outputs": [
        {
          "output_type": "execute_result",
          "data": {
            "text/plain": [
              "2"
            ]
          },
          "metadata": {},
          "execution_count": 47
        }
      ],
      "source": [
        "remainder"
      ]
    },
    {
      "cell_type": "code",
      "execution_count": null,
      "metadata": {
        "id": "uQiG08b8fAyg",
        "outputId": "855ec4b1-42d6-4d0a-a6b5-6a9e3e368780",
        "colab": {
          "base_uri": "https://localhost:8080/"
        }
      },
      "outputs": [
        {
          "output_type": "execute_result",
          "data": {
            "text/plain": [
              "17"
            ]
          },
          "metadata": {},
          "execution_count": 48
        }
      ],
      "source": [
        "quotient *3 +remainder"
      ]
    },
    {
      "cell_type": "markdown",
      "metadata": {
        "id": "rY2qEeajfAyg"
      },
      "source": [
        "# Check for equality"
      ]
    },
    {
      "cell_type": "code",
      "execution_count": null,
      "metadata": {
        "id": "vC1cdWrEfAyg",
        "outputId": "0e65e66f-9b0b-4101-ee9f-4cd33fe0b559",
        "colab": {
          "base_uri": "https://localhost:8080/"
        }
      },
      "outputs": [
        {
          "output_type": "execute_result",
          "data": {
            "text/plain": [
              "True"
            ]
          },
          "metadata": {},
          "execution_count": 49
        }
      ],
      "source": [
        "17 == 17 # 17 is equal to 17"
      ]
    },
    {
      "cell_type": "code",
      "execution_count": null,
      "metadata": {
        "id": "IDZVKEvmfAyg",
        "outputId": "324eae4f-3372-480b-b92b-fbe42e53bb7a",
        "colab": {
          "base_uri": "https://localhost:8080/"
        }
      },
      "outputs": [
        {
          "output_type": "execute_result",
          "data": {
            "text/plain": [
              "False"
            ]
          },
          "metadata": {},
          "execution_count": 50
        }
      ],
      "source": [
        "17==16 # 17 is equal to 16"
      ]
    },
    {
      "cell_type": "code",
      "execution_count": null,
      "metadata": {
        "id": "NxAyUynefAyg",
        "outputId": "e5f51bb0-44b2-42a3-b052-0ff981326e4b",
        "colab": {
          "base_uri": "https://localhost:8080/"
        }
      },
      "outputs": [
        {
          "output_type": "execute_result",
          "data": {
            "text/plain": [
              "True"
            ]
          },
          "metadata": {},
          "execution_count": 51
        }
      ],
      "source": [
        "quotient*3 + remainder == number"
      ]
    },
    {
      "cell_type": "markdown",
      "metadata": {
        "id": "q3ooBMV8LtEp"
      },
      "source": [
        "# Exercise:\n",
        "What will the following blocks of code give?\n",
        "\n",
        "\n",
        "\n",
        "```\n",
        "# Exercise 1\n",
        "a = 22\n",
        "b = 21\n",
        "a == b\n",
        "```\n",
        "\n",
        "\n",
        "\n",
        "```\n",
        "# Exercise 2\n",
        "a = 22\n",
        "b = 22\n",
        "c = a\n",
        "a == b\n",
        "```\n",
        "\n",
        "\n",
        "```\n",
        "# Exercise 3\n",
        "1a = 1\n",
        "b = 22\n",
        "1a == b\n",
        "```\n"
      ]
    },
    {
      "cell_type": "code",
      "source": [],
      "metadata": {
        "id": "V3oMa07js7Df"
      },
      "execution_count": null,
      "outputs": []
    },
    {
      "cell_type": "code",
      "source": [
        "a=22\n",
        "b=21\n",
        "a==b"
      ],
      "metadata": {
        "colab": {
          "base_uri": "https://localhost:8080/"
        },
        "id": "AgfN2SA5s4qD",
        "outputId": "e99f7f6e-0367-4d1f-bfeb-c7ed2db8df68"
      },
      "execution_count": null,
      "outputs": [
        {
          "output_type": "execute_result",
          "data": {
            "text/plain": [
              "False"
            ]
          },
          "metadata": {},
          "execution_count": 52
        }
      ]
    },
    {
      "cell_type": "markdown",
      "metadata": {
        "id": "wO-hlOZffAyh"
      },
      "source": [
        "# Strings\n",
        "\n",
        "Strings are a data type for working with text."
      ]
    },
    {
      "cell_type": "code",
      "execution_count": null,
      "metadata": {
        "id": "LMmd24sRfAyi",
        "outputId": "be2cf0b4-42c4-432a-e974-f617ebb0889e",
        "colab": {
          "base_uri": "https://localhost:8080/",
          "height": 35
        }
      },
      "outputs": [
        {
          "output_type": "execute_result",
          "data": {
            "text/plain": [
              "'hello world string'"
            ],
            "application/vnd.google.colaboratory.intrinsic+json": {
              "type": "string"
            }
          },
          "metadata": {},
          "execution_count": 53
        }
      ],
      "source": [
        "'hello world string'"
      ]
    },
    {
      "cell_type": "code",
      "execution_count": null,
      "metadata": {
        "id": "xIhndBWlfAyi",
        "outputId": "9d4fc54e-c94d-4674-a98d-5e90758337f6",
        "colab": {
          "base_uri": "https://localhost:8080/",
          "height": 35
        }
      },
      "outputs": [
        {
          "output_type": "execute_result",
          "data": {
            "text/plain": [
              "'also a hello world string'"
            ],
            "application/vnd.google.colaboratory.intrinsic+json": {
              "type": "string"
            }
          },
          "metadata": {},
          "execution_count": 54
        }
      ],
      "source": [
        "\"also a hello world string\" # can use single or double quotes"
      ]
    },
    {
      "cell_type": "code",
      "execution_count": null,
      "metadata": {
        "id": "lCB5XGPsfAyi",
        "outputId": "caaf0c7e-b382-450b-f76f-4f0630cdb836",
        "colab": {
          "base_uri": "https://localhost:8080/",
          "height": 35
        }
      },
      "outputs": [
        {
          "output_type": "execute_result",
          "data": {
            "text/plain": [
              "\"isn't it nice to use double quotes sometimes?\""
            ],
            "application/vnd.google.colaboratory.intrinsic+json": {
              "type": "string"
            }
          },
          "metadata": {},
          "execution_count": 55
        }
      ],
      "source": [
        "\"isn't it nice to use double quotes sometimes?\""
      ]
    },
    {
      "cell_type": "code",
      "source": [
        "'isn\\t it nice to use quotes' # use backward slash to put in apostrophe when using sing;e quotation marks"
      ],
      "metadata": {
        "colab": {
          "base_uri": "https://localhost:8080/",
          "height": 35
        },
        "id": "MMjo8M7rtan0",
        "outputId": "88dd5703-775d-4196-ea6d-cd973d77568b"
      },
      "execution_count": null,
      "outputs": [
        {
          "output_type": "execute_result",
          "data": {
            "text/plain": [
              "'isn\\t it nice to use quotes'"
            ],
            "application/vnd.google.colaboratory.intrinsic+json": {
              "type": "string"
            }
          },
          "metadata": {},
          "execution_count": 56
        }
      ]
    },
    {
      "cell_type": "code",
      "execution_count": null,
      "metadata": {
        "id": "kMf-Y3ksfAyi",
        "outputId": "3ac2ad93-43aa-4ed0-c049-d4575da3ee87",
        "colab": {
          "base_uri": "https://localhost:8080/",
          "height": 35
        }
      },
      "outputs": [
        {
          "output_type": "execute_result",
          "data": {
            "text/plain": [
              "\"it isn't nice to use single quotes sometimes\""
            ],
            "application/vnd.google.colaboratory.intrinsic+json": {
              "type": "string"
            }
          },
          "metadata": {},
          "execution_count": 31
        }
      ],
      "source": [
        "'it isn\\'t nice to use single quotes sometimes' # can use the escape(\\) character to use a character that would otherwise do something else."
      ]
    },
    {
      "cell_type": "code",
      "execution_count": null,
      "metadata": {
        "id": "k2aBlFd8fAyi",
        "outputId": "2d114083-397b-4efa-bce3-b1ec94e81ce1",
        "colab": {
          "base_uri": "https://localhost:8080/",
          "height": 35
        }
      },
      "outputs": [
        {
          "output_type": "execute_result",
          "data": {
            "text/plain": [
              "'she said \"single quotes can be nice too\"'"
            ],
            "application/vnd.google.colaboratory.intrinsic+json": {
              "type": "string"
            }
          },
          "metadata": {},
          "execution_count": 32
        }
      ],
      "source": [
        "'she said \"single quotes can be nice too\"'"
      ]
    },
    {
      "cell_type": "code",
      "execution_count": null,
      "metadata": {
        "id": "GNDbIGVrfAyi",
        "outputId": "e3464e96-f054-4e7d-e728-2879281377f1",
        "colab": {
          "base_uri": "https://localhost:8080/",
          "height": 35
        }
      },
      "outputs": [
        {
          "output_type": "execute_result",
          "data": {
            "text/plain": [
              "'she said \"but it\\'s still doable with double quotes\"'"
            ],
            "application/vnd.google.colaboratory.intrinsic+json": {
              "type": "string"
            }
          },
          "metadata": {},
          "execution_count": 57
        }
      ],
      "source": [
        "\"she said \\\"but it's still doable with double quotes\\\"\""
      ]
    },
    {
      "cell_type": "markdown",
      "metadata": {
        "id": "JU0kSwsIfAyj"
      },
      "source": [
        "hmm there's a weird character in there. what does it look like if we print it?"
      ]
    },
    {
      "cell_type": "code",
      "execution_count": null,
      "metadata": {
        "id": "udkXeAo8fAyj",
        "outputId": "7671b13b-b3b3-4b83-d364-8da10f588acf",
        "colab": {
          "base_uri": "https://localhost:8080/"
        }
      },
      "outputs": [
        {
          "output_type": "stream",
          "name": "stdout",
          "text": [
            "she said \"but it's still doable with double quotes\"\n"
          ]
        }
      ],
      "source": [
        "print(\"she said \\\"but it's still doable with double quotes\\\"\") # ah much better"
      ]
    },
    {
      "cell_type": "markdown",
      "metadata": {
        "id": "gIk25gQJfAyj"
      },
      "source": [
        "## Print\n",
        "\n",
        "Print is something called a function -- we will learn more about functions next time. Functions take 0 or more inputs and runs some code.\n",
        "\n",
        "### Help\n",
        "\n",
        "Use help to find out what a function does (sometimes hovering won't work). You can also google the function to find out what it does. The description of what a function does is called a \"docstring.\" We will learn more about docstrings when we learn about functions next class."
      ]
    },
    {
      "cell_type": "code",
      "execution_count": null,
      "metadata": {
        "id": "zIdmSS7LfAyk",
        "outputId": "f84dd870-dadc-43f2-928f-df5463d3e558",
        "colab": {
          "base_uri": "https://localhost:8080/"
        }
      },
      "outputs": [
        {
          "output_type": "stream",
          "name": "stdout",
          "text": [
            "Help on built-in function print in module builtins:\n",
            "\n",
            "print(...)\n",
            "    print(value, ..., sep=' ', end='\\n', file=sys.stdout, flush=False)\n",
            "    \n",
            "    Prints the values to a stream, or to sys.stdout by default.\n",
            "    Optional keyword arguments:\n",
            "    file:  a file-like object (stream); defaults to the current sys.stdout.\n",
            "    sep:   string inserted between values, default a space.\n",
            "    end:   string appended after the last value, default a newline.\n",
            "    flush: whether to forcibly flush the stream.\n",
            "\n"
          ]
        }
      ],
      "source": [
        "help(print)"
      ]
    },
    {
      "cell_type": "markdown",
      "metadata": {
        "id": "0H7d6HZTqZdB"
      },
      "source": [
        "In jupyter, you can also use `print?`."
      ]
    },
    {
      "cell_type": "code",
      "execution_count": null,
      "metadata": {
        "id": "auSNcPpEqXyY"
      },
      "outputs": [],
      "source": [
        "# docstring\n",
        "print?"
      ]
    },
    {
      "cell_type": "code",
      "execution_count": null,
      "metadata": {
        "id": "IhSHfO-xV1d0"
      },
      "outputs": [],
      "source": [
        "# with non built in functions, will show the code for the function\n",
        "print??"
      ]
    },
    {
      "cell_type": "code",
      "execution_count": null,
      "metadata": {
        "id": "O5VPQhkgfAyk",
        "outputId": "862f2a3b-4ee6-4fe9-d712-897c97a710a8",
        "colab": {
          "base_uri": "https://localhost:8080/"
        }
      },
      "outputs": [
        {
          "output_type": "stream",
          "name": "stdout",
          "text": [
            "to include a slash \\\n"
          ]
        }
      ],
      "source": [
        "print(\"to include a slash \\\\\")"
      ]
    },
    {
      "cell_type": "code",
      "execution_count": null,
      "metadata": {
        "id": "ypL2Yzy4fAyk",
        "outputId": "90d688d7-dcaf-4957-d34d-318f604f049b",
        "colab": {
          "base_uri": "https://localhost:8080/"
        }
      },
      "outputs": [
        {
          "output_type": "stream",
          "name": "stdout",
          "text": [
            "path\to\n",
            "ame\n"
          ]
        }
      ],
      "source": [
        "print(\"path\\to\\name\") # what happened? How would you fix this? \\t means tab"
      ]
    },
    {
      "cell_type": "code",
      "source": [
        "print(\"path to name\")"
      ],
      "metadata": {
        "colab": {
          "base_uri": "https://localhost:8080/"
        },
        "id": "8yENp_f0vlxD",
        "outputId": "b2eddabb-7eda-4f23-9443-f495c921de51"
      },
      "execution_count": null,
      "outputs": [
        {
          "output_type": "stream",
          "name": "stdout",
          "text": [
            "path to name\n"
          ]
        }
      ]
    },
    {
      "cell_type": "code",
      "source": [
        "print(\"path\\\\to\\\\name\")"
      ],
      "metadata": {
        "colab": {
          "base_uri": "https://localhost:8080/"
        },
        "id": "qlfp9Z9Lvp9k",
        "outputId": "91e350b8-6f07-42a3-e2b0-9471cc8ec7fe"
      },
      "execution_count": null,
      "outputs": [
        {
          "output_type": "stream",
          "name": "stdout",
          "text": [
            "path\\to\\name\n"
          ]
        }
      ]
    },
    {
      "cell_type": "markdown",
      "metadata": {
        "id": "TFvOwDFbmrXA"
      },
      "source": [
        "## Raw Strings\n",
        "\n",
        "Raw strings take characters as they are and slash is not treated as an escape."
      ]
    },
    {
      "cell_type": "code",
      "execution_count": null,
      "metadata": {
        "id": "JNQ0w7DdfAyk",
        "outputId": "e25f8bbd-a9f3-4dbd-8b5c-4bfcc14522f5",
        "colab": {
          "base_uri": "https://localhost:8080/"
        }
      },
      "outputs": [
        {
          "output_type": "stream",
          "name": "stdout",
          "text": [
            "path\\to\\name\n"
          ]
        }
      ],
      "source": [
        "print(r\"path\\to\\name\") # make it a raw string, what else could we do (see above on including a slash)"
      ]
    },
    {
      "cell_type": "markdown",
      "metadata": {
        "id": "KCAezbLTmk8G"
      },
      "source": [
        "## [Optional / At Home] Multiline Strings\n",
        "\n",
        "You can define strings that have multiple lines by enclosing them in triple quotes as `'''string'''` or `\"\"\"string\"\"\"`."
      ]
    },
    {
      "cell_type": "code",
      "execution_count": null,
      "metadata": {
        "colab": {
          "base_uri": "https://localhost:8080/"
        },
        "id": "755X1c79fAyl",
        "outputId": "2e822ffe-e242-4b76-b927-d27b67eacb49"
      },
      "outputs": [
        {
          "output_type": "stream",
          "name": "stdout",
          "text": [
            "start\n",
            "\n",
            "woah\n",
            "I\n",
            "have many lines\n",
            "woah\n",
            "I\n",
            "have many lines\n",
            "\n",
            "end\n"
          ]
        }
      ],
      "source": [
        "print(\"start\")\n",
        "# without slash adds a new line at start, with escapes the newline\n",
        "print(\"\"\"\n",
        "woah\n",
        "I\n",
        "have \\\n",
        "many lines\"\"\")\n",
        "print(\"\"\"\\\n",
        "woah\n",
        "I\n",
        "have \\\n",
        "many lines\n",
        "\"\"\")\n",
        "print(\"end\")"
      ]
    },
    {
      "cell_type": "markdown",
      "metadata": {
        "id": "TTbduOe0fAyl"
      },
      "source": [
        "## string concatenation & multiplication\n",
        "\n",
        "You can repeat strings by multiplying them by the number of repeats you want, and you can concatenate strings using the addition symbol."
      ]
    },
    {
      "cell_type": "code",
      "execution_count": null,
      "metadata": {
        "colab": {
          "base_uri": "https://localhost:8080/",
          "height": 35
        },
        "id": "H1orxoTqfAyl",
        "outputId": "c3704777-b50d-46a7-e875-2d88d616d6c4"
      },
      "outputs": [
        {
          "output_type": "execute_result",
          "data": {
            "text/plain": [
              "'neuroneuroneuroscience'"
            ],
            "application/vnd.google.colaboratory.intrinsic+json": {
              "type": "string"
            }
          },
          "metadata": {},
          "execution_count": 68
        }
      ],
      "source": [
        "\"neuro\"*3 + \"science\""
      ]
    },
    {
      "cell_type": "markdown",
      "metadata": {
        "id": "cn3xjgN-njEP"
      },
      "source": [
        "## Indexing\n",
        "You can extract individual characters from a string by *indexing* into the string. In Python, indexing starts from 0, so `word[0]` gives the first character in the string `word`"
      ]
    },
    {
      "cell_type": "code",
      "execution_count": null,
      "metadata": {
        "colab": {
          "base_uri": "https://localhost:8080/",
          "height": 52
        },
        "id": "fBo_xDwFfAym",
        "outputId": "4d8b2e43-1ef2-4429-bcaa-843e7f91663f"
      },
      "outputs": [
        {
          "output_type": "stream",
          "name": "stdout",
          "text": [
            "neuro\n"
          ]
        },
        {
          "output_type": "execute_result",
          "data": {
            "text/plain": [
              "'n'"
            ],
            "application/vnd.google.colaboratory.intrinsic+json": {
              "type": "string"
            }
          },
          "metadata": {},
          "execution_count": 43
        }
      ],
      "source": [
        "word='neuro'\n",
        "print(word)\n",
        "word[0]\n"
      ]
    },
    {
      "cell_type": "code",
      "execution_count": null,
      "metadata": {
        "id": "vWARP8kvfAym",
        "outputId": "424d333e-abcd-4c4e-8a84-83036b533cea",
        "colab": {
          "base_uri": "https://localhost:8080/",
          "height": 193
        }
      },
      "outputs": [
        {
          "output_type": "error",
          "ename": "IndexError",
          "evalue": "ignored",
          "traceback": [
            "\u001b[0;31m---------------------------------------------------------------------------\u001b[0m",
            "\u001b[0;31mIndexError\u001b[0m                                Traceback (most recent call last)",
            "\u001b[0;32m<ipython-input-44-dc1291fcd328>\u001b[0m in \u001b[0;36m<cell line: 1>\u001b[0;34m()\u001b[0m\n\u001b[0;32m----> 1\u001b[0;31m \u001b[0mword\u001b[0m\u001b[0;34m[\u001b[0m\u001b[0;36m5\u001b[0m\u001b[0;34m]\u001b[0m \u001b[0;31m# because we start from 0 and there are 5 letters in word, 5 is out of range.\u001b[0m\u001b[0;34m\u001b[0m\u001b[0;34m\u001b[0m\u001b[0m\n\u001b[0m",
            "\u001b[0;31mIndexError\u001b[0m: string index out of range"
          ]
        }
      ],
      "source": [
        "word[5] # because we start from 0 and there are 5 letters in word, 5 is out of range."
      ]
    },
    {
      "cell_type": "code",
      "execution_count": null,
      "metadata": {
        "id": "OmkoAMS1fAym",
        "outputId": "c3913b88-4aed-444b-e652-f33fb66b70d5",
        "colab": {
          "base_uri": "https://localhost:8080/"
        }
      },
      "outputs": [
        {
          "output_type": "execute_result",
          "data": {
            "text/plain": [
              "5"
            ]
          },
          "metadata": {},
          "execution_count": 70
        }
      ],
      "source": [
        "word = 'neuro'\n",
        "len(word) # get the length of word. There are five characters in the string word -- n, e, u, r, and o"
      ]
    },
    {
      "cell_type": "code",
      "execution_count": null,
      "metadata": {
        "id": "mbIrkKK6fAyn",
        "outputId": "29a8ace6-faba-465d-bddc-a747a0c8533f",
        "colab": {
          "base_uri": "https://localhost:8080/",
          "height": 35
        }
      },
      "outputs": [
        {
          "output_type": "execute_result",
          "data": {
            "text/plain": [
              "'o'"
            ],
            "application/vnd.google.colaboratory.intrinsic+json": {
              "type": "string"
            }
          },
          "metadata": {},
          "execution_count": 71
        }
      ],
      "source": [
        "word[4] # what will this give us?"
      ]
    },
    {
      "cell_type": "code",
      "execution_count": null,
      "metadata": {
        "id": "ozlBzv7ffAyn",
        "outputId": "204f211e-9f09-4ae3-c304-02e2dceba48d",
        "colab": {
          "base_uri": "https://localhost:8080/",
          "height": 35
        }
      },
      "outputs": [
        {
          "output_type": "execute_result",
          "data": {
            "text/plain": [
              "'o'"
            ],
            "application/vnd.google.colaboratory.intrinsic+json": {
              "type": "string"
            }
          },
          "metadata": {},
          "execution_count": 72
        }
      ],
      "source": [
        "word[-1] # we can get the last character by using -1, use for very long strings"
      ]
    },
    {
      "cell_type": "code",
      "execution_count": null,
      "metadata": {
        "id": "05MQbYwMfAyn",
        "outputId": "63c22057-ad1e-4180-a7cd-bd7b5934c2b6",
        "colab": {
          "base_uri": "https://localhost:8080/",
          "height": 35
        }
      },
      "outputs": [
        {
          "output_type": "execute_result",
          "data": {
            "text/plain": [
              "'r'"
            ],
            "application/vnd.google.colaboratory.intrinsic+json": {
              "type": "string"
            }
          },
          "metadata": {},
          "execution_count": 73
        }
      ],
      "source": [
        "word[-2] # second from last"
      ]
    },
    {
      "cell_type": "code",
      "execution_count": null,
      "metadata": {
        "id": "QvvGcLMKfAyo",
        "outputId": "4d1b25b1-3cb0-40e3-fb15-4070391b03ce",
        "colab": {
          "base_uri": "https://localhost:8080/",
          "height": 179
        }
      },
      "outputs": [
        {
          "output_type": "error",
          "ename": "IndexError",
          "evalue": "ignored",
          "traceback": [
            "\u001b[0;31m---------------------------------------------------------------------------\u001b[0m",
            "\u001b[0;31mIndexError\u001b[0m                                Traceback (most recent call last)",
            "\u001b[0;32m<ipython-input-74-4deeb2382caf>\u001b[0m in \u001b[0;36m<cell line: 1>\u001b[0;34m()\u001b[0m\n\u001b[0;32m----> 1\u001b[0;31m \u001b[0mword\u001b[0m\u001b[0;34m[\u001b[0m\u001b[0;34m-\u001b[0m\u001b[0;36m6\u001b[0m\u001b[0;34m]\u001b[0m \u001b[0;31m# sixth from last\u001b[0m\u001b[0;34m\u001b[0m\u001b[0;34m\u001b[0m\u001b[0m\n\u001b[0m",
            "\u001b[0;31mIndexError\u001b[0m: string index out of range"
          ]
        }
      ],
      "source": [
        "word[-6] # sixth from last"
      ]
    },
    {
      "cell_type": "markdown",
      "metadata": {
        "id": "Uj5F0zw4NYJY"
      },
      "source": [
        "## Exercise\n",
        "\n",
        "What will the following print statements print?\n",
        "\n",
        "```\n",
        "exercise_word = \"foo\\\\\"\n",
        "\n",
        "\n",
        "print(exercise_word) #1\n",
        "print(len(exercise_word)) #2\n",
        "print(exercise_word[1]) #3\n",
        "print(exercise_word[5]) #4\n",
        "print(exercise_word[-1]) #5\n",
        "print(exercise_word*3 + \"bar\") #6\n",
        "print(exercise_word) #7\n",
        "exercise_word = \"new exercise word\"\n",
        "print(exercise_word) #8\n",
        "```\n",
        "\n"
      ]
    },
    {
      "cell_type": "code",
      "source": [
        "exercise_word = \"foo\\\\\"\n",
        "print(exercise_word)\n",
        "print(len(exercise_word))\n",
        "print(exercise_word[1])\n",
        "print(exercise_word[-1])\n",
        "print(exercise_word*3 + \"bar\")\n",
        "print(exercise_word)"
      ],
      "metadata": {
        "colab": {
          "base_uri": "https://localhost:8080/"
        },
        "id": "K-hzGLekxWvV",
        "outputId": "b6fec785-eb8b-4e14-836c-9ede17bfb4fb"
      },
      "execution_count": null,
      "outputs": [
        {
          "output_type": "stream",
          "name": "stdout",
          "text": [
            "foo\\\n",
            "4\n",
            "o\n",
            "\\\n",
            "foo\\foo\\foo\\bar\n",
            "foo\\\n"
          ]
        }
      ]
    },
    {
      "cell_type": "markdown",
      "metadata": {
        "id": "orNfcUUSfRUf"
      },
      "source": [
        "# Bools\n",
        "\n",
        "Python's bool datatype stores l logical values of `True` or `False`. Bools are named for Boolean logic which specifies operations that can be done between `True` and `False` values, specifically `and`, `or`, and `not`. The rules for boolean logic are listed below:\n",
        "\n",
        "| A | B | A and B | A or B | not A |\n",
        "|---|---|---------|--------|-------|\n",
        "| T | T | T       | T      | F     |\n",
        "| T | F | F       | T      | F     |\n",
        "| F | T | F       | T      | T     |\n",
        "| F | F | F       | F      | T     |"
      ]
    },
    {
      "cell_type": "code",
      "execution_count": null,
      "metadata": {
        "id": "pDN3woR_fAyt",
        "outputId": "f6c98b45-7b33-45fa-b8c1-059389f68e77",
        "colab": {
          "base_uri": "https://localhost:8080/"
        }
      },
      "outputs": [
        {
          "output_type": "execute_result",
          "data": {
            "text/plain": [
              "True"
            ]
          },
          "metadata": {},
          "execution_count": 50
        }
      ],
      "source": [
        "True and True"
      ]
    },
    {
      "cell_type": "code",
      "execution_count": null,
      "metadata": {
        "id": "v9766Oc_fAyt",
        "outputId": "77b6d9e5-9002-4f7d-c2a9-46331a0e699f",
        "colab": {
          "base_uri": "https://localhost:8080/"
        }
      },
      "outputs": [
        {
          "output_type": "execute_result",
          "data": {
            "text/plain": [
              "False"
            ]
          },
          "metadata": {},
          "execution_count": 51
        }
      ],
      "source": [
        "True and False"
      ]
    },
    {
      "cell_type": "code",
      "execution_count": null,
      "metadata": {
        "colab": {
          "base_uri": "https://localhost:8080/"
        },
        "id": "CWsYsDGZ7sOx",
        "outputId": "64f460e6-7aa5-42e3-af8a-196c1371ff5a"
      },
      "outputs": [
        {
          "output_type": "execute_result",
          "data": {
            "text/plain": [
              "False"
            ]
          },
          "metadata": {},
          "execution_count": 52
        }
      ],
      "source": [
        "False and False"
      ]
    },
    {
      "cell_type": "code",
      "execution_count": null,
      "metadata": {
        "id": "ypeNHyZ9fAyt",
        "outputId": "414cce29-421c-4a23-8a07-7a434e3ac929",
        "colab": {
          "base_uri": "https://localhost:8080/"
        }
      },
      "outputs": [
        {
          "output_type": "execute_result",
          "data": {
            "text/plain": [
              "True"
            ]
          },
          "metadata": {},
          "execution_count": 53
        }
      ],
      "source": [
        "True or False"
      ]
    },
    {
      "cell_type": "code",
      "execution_count": null,
      "metadata": {
        "id": "_Usdl5rjfAyu",
        "outputId": "2ca4cd8e-8b9e-44af-9715-81fe9e397cae",
        "colab": {
          "base_uri": "https://localhost:8080/"
        }
      },
      "outputs": [
        {
          "output_type": "execute_result",
          "data": {
            "text/plain": [
              "False"
            ]
          },
          "metadata": {},
          "execution_count": 54
        }
      ],
      "source": [
        "False or False"
      ]
    },
    {
      "cell_type": "code",
      "execution_count": null,
      "metadata": {
        "id": "sfDldMQrfAyu",
        "outputId": "fecd40d7-edee-42ae-d4b4-634f81abbd80",
        "colab": {
          "base_uri": "https://localhost:8080/"
        }
      },
      "outputs": [
        {
          "output_type": "execute_result",
          "data": {
            "text/plain": [
              "True"
            ]
          },
          "metadata": {},
          "execution_count": 55
        }
      ],
      "source": [
        "True or True"
      ]
    },
    {
      "cell_type": "code",
      "execution_count": null,
      "metadata": {
        "id": "l84mWfBZfAyu",
        "outputId": "00b9b9db-adf4-4a96-8663-a58a099f3bb2",
        "colab": {
          "base_uri": "https://localhost:8080/"
        }
      },
      "outputs": [
        {
          "output_type": "execute_result",
          "data": {
            "text/plain": [
              "False"
            ]
          },
          "metadata": {},
          "execution_count": 56
        }
      ],
      "source": [
        "not True"
      ]
    },
    {
      "cell_type": "markdown",
      "metadata": {
        "id": "qR-ggKPO7sOx"
      },
      "source": [
        "### Order of operations:\n",
        "\n",
        "`not` first, then `and`, then `or`"
      ]
    },
    {
      "cell_type": "code",
      "execution_count": null,
      "metadata": {
        "colab": {
          "base_uri": "https://localhost:8080/"
        },
        "id": "h8av1z6Y7sOx",
        "outputId": "0ac9f6da-ed85-4814-a51f-b8907a6537ef"
      },
      "outputs": [
        {
          "output_type": "execute_result",
          "data": {
            "text/plain": [
              "True"
            ]
          },
          "metadata": {},
          "execution_count": 57
        }
      ],
      "source": [
        "True or (not True) and False"
      ]
    },
    {
      "cell_type": "code",
      "execution_count": null,
      "metadata": {
        "colab": {
          "base_uri": "https://localhost:8080/"
        },
        "id": "YjsWI9AF7sOx",
        "outputId": "823ab498-dea6-4bea-f268-311ef713633a"
      },
      "outputs": [
        {
          "output_type": "execute_result",
          "data": {
            "text/plain": [
              "False"
            ]
          },
          "metadata": {},
          "execution_count": 58
        }
      ],
      "source": [
        "(True or (not True)) and False"
      ]
    },
    {
      "cell_type": "markdown",
      "metadata": {
        "id": "_gGKkY4HfAyt"
      },
      "source": [
        "## Comparison operations\n",
        "Comparison operations let us define booleans from other datatypes based on the values of those datatypes.\n",
        "* less than or equal `<=`\n",
        "* less than `<`\n",
        "* greater than or equal `>=`\n",
        "* greater than `>`\n",
        "* not equal `!=`\n",
        "* is equal to `==`\n",
        "\n",
        "\n",
        "\n"
      ]
    },
    {
      "cell_type": "code",
      "execution_count": null,
      "metadata": {
        "colab": {
          "base_uri": "https://localhost:8080/"
        },
        "id": "ofQOeO1wfAyt",
        "outputId": "f1d12c74-849e-4c61-c79c-f183442ac048"
      },
      "outputs": [
        {
          "output_type": "stream",
          "name": "stdout",
          "text": [
            "True\n",
            "False\n",
            "True\n"
          ]
        }
      ],
      "source": [
        "print(8<10)\n",
        "print(10 < 10)\n",
        "print(10 <= 10)"
      ]
    },
    {
      "cell_type": "code",
      "execution_count": null,
      "metadata": {
        "colab": {
          "base_uri": "https://localhost:8080/"
        },
        "id": "D2140vdifAyu",
        "outputId": "b84d5d59-88a1-4317-fe57-4c2dc6433c7c"
      },
      "outputs": [
        {
          "output_type": "stream",
          "name": "stdout",
          "text": [
            "True\n",
            "True\n"
          ]
        }
      ],
      "source": [
        "neuroscience ='fun'\n",
        "python = 'fun'\n",
        "\n",
        "# What will this print?\n",
        "print(neuroscience == 'fun' and python == 'fun')\n",
        "print(neuroscience == 'fun' or python == 'fun')"
      ]
    },
    {
      "cell_type": "code",
      "execution_count": null,
      "metadata": {
        "colab": {
          "base_uri": "https://localhost:8080/"
        },
        "id": "B-reddoXfAyu",
        "outputId": "1ccaaa10-8cd9-4eff-dae8-292f79bd9a3a"
      },
      "outputs": [
        {
          "output_type": "stream",
          "name": "stdout",
          "text": [
            "False\n",
            "True\n"
          ]
        }
      ],
      "source": [
        "neuroscience ='fun'\n",
        "python = 'cool'\n",
        "\n",
        "# What will this print?\n",
        "print(neuroscience == 'fun' and python == 'fun')\n",
        "print(neuroscience == 'fun' or python == 'fun')"
      ]
    },
    {
      "cell_type": "code",
      "execution_count": null,
      "metadata": {
        "colab": {
          "base_uri": "https://localhost:8080/"
        },
        "id": "J2Zqxr-p7sOy",
        "outputId": "8c89d0b0-b5ac-4f31-cecf-0cd267e83b6e"
      },
      "outputs": [
        {
          "output_type": "stream",
          "name": "stdout",
          "text": [
            "False\n",
            "False\n"
          ]
        }
      ],
      "source": [
        "neuroscience ='funny'\n",
        "python = 'cool'\n",
        "\n",
        "# What will this print?\n",
        "print(neuroscience == 'fun' and python == 'fun')\n",
        "print(neuroscience == 'fun' or python == 'fun')"
      ]
    },
    {
      "cell_type": "code",
      "execution_count": null,
      "metadata": {
        "colab": {
          "base_uri": "https://localhost:8080/"
        },
        "id": "VXS30v7f7sOy",
        "outputId": "655f0c5a-285e-459d-9c30-33d92d839d1e"
      },
      "outputs": [
        {
          "output_type": "stream",
          "name": "stdout",
          "text": [
            "True\n"
          ]
        }
      ],
      "source": [
        "x = 5 # What will this print?\n",
        "print(x < 10 and x > 0)"
      ]
    },
    {
      "cell_type": "code",
      "execution_count": null,
      "metadata": {
        "colab": {
          "base_uri": "https://localhost:8080/"
        },
        "id": "uducNY7R7sOy",
        "outputId": "eb3d528b-0886-40e5-85da-d92bcfa0f299"
      },
      "outputs": [
        {
          "output_type": "stream",
          "name": "stdout",
          "text": [
            "False\n"
          ]
        }
      ],
      "source": [
        "x = 10 # What will this print?\n",
        "print(x < 10 and x > 0)"
      ]
    },
    {
      "cell_type": "code",
      "execution_count": null,
      "metadata": {
        "colab": {
          "base_uri": "https://localhost:8080/"
        },
        "id": "KTWJEBW67sOy",
        "outputId": "2372d2fd-03aa-4157-9d95-ad141178f959"
      },
      "outputs": [
        {
          "output_type": "stream",
          "name": "stdout",
          "text": [
            "False\n"
          ]
        }
      ],
      "source": [
        "x = 0 # What will this print?\n",
        "print(x < 10 and x > 0)"
      ]
    },
    {
      "cell_type": "markdown",
      "metadata": {
        "id": "QUQ2gogy7sOy"
      },
      "source": [
        "### Exercise:\n",
        "\n",
        "Write code like in the above examples that prints `True` if a variable, `y`, is greater than 10 or less than -10, and `False` otherwise.\n",
        "\n",
        "Test that it does what it should for y=10 (False), y=-10 (False), y = 11 (True), y = -11 (True)"
      ]
    },
    {
      "cell_type": "code",
      "source": [
        "y = -11\n",
        "print(y > 10 or y < -10)"
      ],
      "metadata": {
        "colab": {
          "base_uri": "https://localhost:8080/"
        },
        "id": "YIgz6f6nz_UO",
        "outputId": "0049001a-971b-4a0f-fa0c-6a4f6414adf3"
      },
      "execution_count": null,
      "outputs": [
        {
          "output_type": "stream",
          "name": "stdout",
          "text": [
            "True\n"
          ]
        }
      ]
    },
    {
      "cell_type": "markdown",
      "metadata": {
        "id": "8LXydxHJfAyu"
      },
      "source": [
        "## Boolean Casting\n",
        "\n",
        "Most python data objects evaluate to true except for the empty string and 0, as well as empty list, empty tuple and empty dictionaries (more about these data types next class)\n",
        "\n",
        "What is each of the datatypes inside the parentheses?"
      ]
    },
    {
      "cell_type": "code",
      "execution_count": null,
      "metadata": {
        "id": "qZDG17mhfAyu",
        "outputId": "40cc3a29-e31c-4352-c90b-df9f2725651b",
        "colab": {
          "base_uri": "https://localhost:8080/"
        }
      },
      "outputs": [
        {
          "output_type": "execute_result",
          "data": {
            "text/plain": [
              "False"
            ]
          },
          "metadata": {},
          "execution_count": 87
        }
      ],
      "source": [
        "bool('') # what is this?"
      ]
    },
    {
      "cell_type": "code",
      "execution_count": null,
      "metadata": {
        "id": "yNM3jhoxfAyu",
        "outputId": "4f0d9fdf-706c-4dd1-f572-dd62c430fa5b",
        "colab": {
          "base_uri": "https://localhost:8080/"
        }
      },
      "outputs": [
        {
          "output_type": "execute_result",
          "data": {
            "text/plain": [
              "False"
            ]
          },
          "metadata": {},
          "execution_count": 88
        }
      ],
      "source": [
        "bool(0) # what is this?"
      ]
    },
    {
      "cell_type": "code",
      "execution_count": null,
      "metadata": {
        "id": "kxM4GqKHfAyu",
        "outputId": "aee9fa20-0080-42e8-db0e-f57cad8703ef",
        "colab": {
          "base_uri": "https://localhost:8080/"
        }
      },
      "outputs": [
        {
          "output_type": "execute_result",
          "data": {
            "text/plain": [
              "False"
            ]
          },
          "metadata": {},
          "execution_count": 89
        }
      ],
      "source": [
        "bool(0.0) # what is this?"
      ]
    },
    {
      "cell_type": "code",
      "execution_count": null,
      "metadata": {
        "id": "660fH2ipfAyu",
        "outputId": "faa0a720-655d-4eda-c321-8540c2e072f9",
        "colab": {
          "base_uri": "https://localhost:8080/"
        }
      },
      "outputs": [
        {
          "output_type": "execute_result",
          "data": {
            "text/plain": [
              "False"
            ]
          },
          "metadata": {},
          "execution_count": 90
        }
      ],
      "source": [
        "bool([]) # list"
      ]
    },
    {
      "cell_type": "code",
      "execution_count": null,
      "metadata": {
        "id": "EdjZf1UtfAyu",
        "outputId": "177cfc1a-0cf4-4204-a643-4bc9392390e8",
        "colab": {
          "base_uri": "https://localhost:8080/"
        }
      },
      "outputs": [
        {
          "output_type": "execute_result",
          "data": {
            "text/plain": [
              "False"
            ]
          },
          "metadata": {},
          "execution_count": 91
        }
      ],
      "source": [
        "bool(()) # tuple"
      ]
    },
    {
      "cell_type": "code",
      "execution_count": null,
      "metadata": {
        "id": "swJYKba9fAyu",
        "outputId": "eb200758-698e-462d-fb16-cd7565a04229",
        "colab": {
          "base_uri": "https://localhost:8080/"
        }
      },
      "outputs": [
        {
          "output_type": "execute_result",
          "data": {
            "text/plain": [
              "False"
            ]
          },
          "metadata": {},
          "execution_count": 71
        }
      ],
      "source": [
        "bool({}) # dictionary"
      ]
    },
    {
      "cell_type": "code",
      "execution_count": null,
      "metadata": {
        "id": "s1FDQIWmfAyu",
        "outputId": "b11c0a40-2aeb-4655-a929-28e002e9172d",
        "colab": {
          "base_uri": "https://localhost:8080/"
        }
      },
      "outputs": [
        {
          "output_type": "execute_result",
          "data": {
            "text/plain": [
              "False"
            ]
          },
          "metadata": {},
          "execution_count": 92
        }
      ],
      "source": [
        "\n",
        "bool(None) #NoneType -- this is a special type often used a placeholder. We will see more about it next time."
      ]
    },
    {
      "cell_type": "code",
      "execution_count": null,
      "metadata": {
        "colab": {
          "base_uri": "https://localhost:8080/"
        },
        "id": "gKPg7HHxGbHs",
        "outputId": "156b5a8c-8956-4abf-cbf4-e0eeb749d878"
      },
      "outputs": [
        {
          "output_type": "execute_result",
          "data": {
            "text/plain": [
              "False"
            ]
          },
          "metadata": {},
          "execution_count": 93
        }
      ],
      "source": [
        "\n",
        "bool(None) #NoneType -- this is a special type often used a placeholder. We will see more about it next time."
      ]
    },
    {
      "cell_type": "code",
      "execution_count": null,
      "metadata": {
        "id": "o3M7gpYlGcoE",
        "colab": {
          "base_uri": "https://localhost:8080/"
        },
        "outputId": "805ffabe-5125-488a-badf-c02b8db4b428"
      },
      "outputs": [
        {
          "output_type": "execute_result",
          "data": {
            "text/plain": [
              "NoneType"
            ]
          },
          "metadata": {},
          "execution_count": 94
        }
      ],
      "source": [
        "type(None)"
      ]
    },
    {
      "cell_type": "markdown",
      "metadata": {
        "id": "PXQt3B2pfj9g"
      },
      "source": [
        "## If / else statements\n",
        "\n",
        "If / else statements let us run code only if code evaluates to True.\n",
        "\n",
        "Python uses indentation after a colon to indicate code blocks.\n",
        "\n",
        "So for example, below if x is equal to 6, the code in the code block, `print(\"hi\")` will run, otherwise it will not run.\n",
        "\n",
        "```\n",
        "if x==6:\n",
        "    print(\"hi\")\n",
        "\n",
        "```\n",
        "\n",
        "An `else` statement after an `if` statement tells Python to run the code inside the `else` codeblock if the `if` codeblock was not run.\n",
        "\n",
        "The below codeblock prints exactly what it says it will.\n",
        "\n",
        "```\n",
        "if x == 6:\n",
        "    print(\"x is 6\")\n",
        "else:\n",
        "    print(\"x is not 6\")\n",
        "```\n",
        "\n",
        "`elif` statements can be placed after after an `if` statement. `elif` statements are checked in order if none of the previous codeblock have run. Python runs code inside an `elif` codeblock if none of the preceding `if` and `elif` statements were true, and if that `elif` statement is True.\n",
        "\n",
        "```\n",
        "if x == 6:\n",
        "    print(\"x is 6\")\n",
        "elif x%2 == 0:\n",
        "    print(\"x is even\")\n",
        "elif x%2 == 1:\n",
        "    print(\"x is odd\")\n",
        "else:\n",
        "    print(\"You should never get here -- every number is either even or odd\")\n",
        "```"
      ]
    },
    {
      "cell_type": "code",
      "execution_count": null,
      "metadata": {
        "colab": {
          "base_uri": "https://localhost:8080/"
        },
        "id": "gHgvwRh_kDFr",
        "outputId": "6d33b667-6903-4296-c330-f31c2fcf7ee2"
      },
      "outputs": [
        {
          "output_type": "stream",
          "name": "stdout",
          "text": [
            "foo\n"
          ]
        }
      ],
      "source": [
        "num=9 # What will this do?\n",
        "if num%2 ==1:\n",
        "    print(\"foo\")"
      ]
    },
    {
      "cell_type": "code",
      "execution_count": null,
      "metadata": {
        "id": "R8Cor1Ky7sOz"
      },
      "outputs": [],
      "source": [
        "num=8 # What will this do?\n",
        "if num%2 ==1:\n",
        "    print(\"foo\")"
      ]
    },
    {
      "cell_type": "code",
      "execution_count": null,
      "metadata": {
        "colab": {
          "base_uri": "https://localhost:8080/"
        },
        "id": "pmrUnin6fAyv",
        "outputId": "cf93eb90-e151-442d-a367-85054a317ca2"
      },
      "outputs": [
        {
          "output_type": "stream",
          "name": "stdout",
          "text": [
            "bar\n"
          ]
        }
      ],
      "source": [
        "num = 8 # What will this do?\n",
        "if num%2 ==1:\n",
        "    print(\"foo\")\n",
        "else:\n",
        "    print(\"bar\")"
      ]
    },
    {
      "cell_type": "code",
      "execution_count": null,
      "metadata": {
        "id": "z0_s2hOl7sOz"
      },
      "outputs": [],
      "source": [
        "num = 9 # What will this do?\n",
        "if num%2 ==1:\n",
        "    print(\"foo\")\n",
        "else:\n",
        "    print(\"bar\")"
      ]
    },
    {
      "cell_type": "code",
      "execution_count": null,
      "metadata": {
        "colab": {
          "base_uri": "https://localhost:8080/"
        },
        "id": "Bg7f_FFxkFZ6",
        "outputId": "b8d08dff-cd87-4cde-eeb6-6335c86a210a"
      },
      "outputs": [
        {
          "output_type": "stream",
          "name": "stdout",
          "text": [
            "foo\n"
          ]
        }
      ],
      "source": [
        "num = 3 # What will this do?\n",
        "if num %2 ==1:\n",
        "  print(\"foo\")\n",
        "elif num %3 == 0: # else if\n",
        "  print(\"bar\")\n",
        "else:\n",
        "  print(\"foobar\")"
      ]
    },
    {
      "cell_type": "code",
      "execution_count": null,
      "metadata": {
        "id": "v8N9dnzG7sOz"
      },
      "outputs": [],
      "source": [
        "num = 6 # What will this do?\n",
        "if num %2 ==1:\n",
        "  print(\"foo\")\n",
        "elif num %3 == 0: # else if\n",
        "  print(\"bar\")\n",
        "else:\n",
        "  print(\"foobar\")"
      ]
    },
    {
      "cell_type": "code",
      "execution_count": null,
      "metadata": {
        "id": "QNUEzPvV7sOz"
      },
      "outputs": [],
      "source": [
        "num = 4 # What will this do?\n",
        "if num %2 ==1:\n",
        "  print(\"foo\")\n",
        "elif num %3 == 0: # else if\n",
        "  print(\"bar\")\n",
        "else:\n",
        "  print(\"foobar\")"
      ]
    },
    {
      "cell_type": "markdown",
      "metadata": {
        "id": "X_NCY7KJUHpI"
      },
      "source": [
        "## Exercise\n",
        "1. Write something so that, given a variable called `my_number`, if it is less than or equal to 3, it prints \"less than or equal to 3\". Test it on `my_number=3` and `my_number=4`\n",
        "2. Write something so that, given a variable called `my_number`, if it is less than or equal to 3, it prints \"less than or equal to 3\".  Otherwise, print (\"greater than 3\"), Test it on `my_number=3` and `my_number=4`.\n",
        "3. Write something so that, given a variable called `my_int`, if it is not an integer, it prints \"please give me an integer\". Test it on `my_int=3` and `my_int=3.2`\n",
        "4. Write something so that, given a variable called `my_int`, if it is not an integer, it prints \"please give me an integer\". Otherwise, if `my_int` is less than 0, print \"negative\". Test it on `my_int=0`, `my_int=3.2`, and `my_int=-1`.\n",
        "5. Challenge:\n",
        "- Write something so that, given a variable called `my_number`:\n",
        "    - if it is not an integer, it prints \"please give me an integer\"\n",
        "    - otherwise if it is less than 0 it prints \"negative\"\n",
        "    - otherwise if it is between 0 and 10 it prints \"digit\"\n",
        "    - otherwise it prints \"we can't count this on our hands\"\n",
        "- Test it out by setting `my_number` to a few different values and making sure it does what you want / expect."
      ]
    },
    {
      "cell_type": "code",
      "source": [
        "my_number = 4\n",
        "if my_number <= 3:\n",
        "  print(\"less than or equal to 3\")\n",
        "else:\n",
        "  print(\"greater than 3\")"
      ],
      "metadata": {
        "colab": {
          "base_uri": "https://localhost:8080/"
        },
        "id": "wdUFO2s-71_L",
        "outputId": "ae697d79-9b29-4590-f30c-7ee09d72ba7a"
      },
      "execution_count": null,
      "outputs": [
        {
          "output_type": "stream",
          "name": "stdout",
          "text": [
            "greater than 3\n"
          ]
        }
      ]
    },
    {
      "cell_type": "code",
      "source": [
        "my_int = 3.2\n",
        "if type(my_int) != int:\n",
        "  print(\"please give me an integer\")\n",
        "elif my_int < 0:\n",
        "  print(\"negative\")"
      ],
      "metadata": {
        "colab": {
          "base_uri": "https://localhost:8080/"
        },
        "id": "GZL4OxrJ8SJZ",
        "outputId": "454f0693-856c-4d35-bb9c-31374c5a98a8"
      },
      "execution_count": null,
      "outputs": [
        {
          "output_type": "stream",
          "name": "stdout",
          "text": [
            "please give me an integer\n"
          ]
        }
      ]
    },
    {
      "cell_type": "code",
      "source": [
        "my_number = 10\n",
        "if type(my_number) != int:\n",
        "  print(\"please give me an integer\")\n",
        "elif my_number < 0:\n",
        "  print(\"negative\")\n",
        "elif my_number > 0 and my_number < 10:\n",
        "  print(\"digit\")\n",
        "else:\n",
        "  print(\"we can't count this on our hands\")"
      ],
      "metadata": {
        "colab": {
          "base_uri": "https://localhost:8080/"
        },
        "id": "m6rQD8PU9Ptz",
        "outputId": "4be57878-ff8f-4704-ddbf-2184761105ac"
      },
      "execution_count": null,
      "outputs": [
        {
          "output_type": "stream",
          "name": "stdout",
          "text": [
            "we can't count this on our hands\n"
          ]
        }
      ]
    },
    {
      "cell_type": "markdown",
      "metadata": {
        "id": "p9CeS4yz7sOz"
      },
      "source": []
    }
  ],
  "metadata": {
    "colab": {
      "provenance": []
    },
    "kernelspec": {
      "display_name": "Python 3 (ipykernel)",
      "language": "python",
      "name": "python3"
    },
    "language_info": {
      "codemirror_mode": {
        "name": "ipython",
        "version": 3
      },
      "file_extension": ".py",
      "mimetype": "text/x-python",
      "name": "python",
      "nbconvert_exporter": "python",
      "pygments_lexer": "ipython3",
      "version": "3.7.12"
    },
    "vscode": {
      "interpreter": {
        "hash": "0800c0f83fa147eddd4b87d7df88a61f04b699d9837e9e8222e971ef1ed63fb6"
      }
    }
  },
  "nbformat": 4,
  "nbformat_minor": 0
}